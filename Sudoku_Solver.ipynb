{
  "cells": [
    {
      "cell_type": "markdown",
      "metadata": {
        "id": "view-in-github",
        "colab_type": "text"
      },
      "source": [
        "<a href=\"https://colab.research.google.com/github/apowell18/Sudoku/blob/main/Sudoku_Solver.ipynb\" target=\"_parent\"><img src=\"https://colab.research.google.com/assets/colab-badge.svg\" alt=\"Open In Colab\"/></a>"
      ]
    },
    {
      "cell_type": "markdown",
      "metadata": {
        "id": "8YZkr545J_fQ"
      },
      "source": [
        "Project 1: Suduko solver"
      ]
    },
    {
      "cell_type": "code",
      "execution_count": null,
      "metadata": {
        "id": "bbFRWoBWJ-de"
      },
      "outputs": [],
      "source": [
        "#!/usr/bin/env python\n",
        "#coding:utf-8\n",
        "\n",
        "\"\"\"\n",
        "Each sudoku board is represented as a dictionary with string keys and\n",
        "int values.\n",
        "e.g. my_board['A1'] = 8\n",
        "\"\"\"\n",
        "\n",
        "ROW = \"ABCDEFGHI\"\n",
        "COL = \"123456789\"\n",
        "\n",
        "\n",
        "def print_board(board):\n",
        "    \"\"\"Helper function to print board in a square.\"\"\"\n",
        "    print(\"-----------------\")\n",
        "    for i in ROW:\n",
        "        row = ''\n",
        "        for j in COL:\n",
        "            row += (str(board[i + j]) + \" \")\n",
        "        print(row)\n",
        "\n",
        "\n",
        "def board_to_string(board):\n",
        "    \"\"\"Helper function to convert board dictionary to string for writing.\"\"\"\n",
        "    ordered_vals = []\n",
        "    for r in ROW:\n",
        "        for c in COL:\n",
        "            ordered_vals.append(str(board[r + c]))\n",
        "    return ''.join(ordered_vals)\n",
        "\n"
      ]
    },
    {
      "cell_type": "code",
      "execution_count": null,
      "metadata": {
        "id": "I26SI1Lhuc_j"
      },
      "outputs": [],
      "source": [
        "# checking if all spaces are completed\n",
        "def isCompleted(b): \n",
        "  for r in range (0, 9): \n",
        "      for c in range(0,9): \n",
        "        num = b[ROW[r] + COL[c]]\n",
        "        if num == 0: \n",
        "          return False\n",
        "  return True"
      ]
    },
    {
      "cell_type": "code",
      "execution_count": null,
      "metadata": {
        "id": "UIsko6kYUIuE"
      },
      "outputs": [],
      "source": [
        "#determines if the value is valid for the cell\n",
        "def isValid(b,x, y, n): # check if valid \n",
        "    #check row\n",
        "    num = 0\n",
        "    for i in range (0, 9): \n",
        "      num = b[ROW[x] + COL[i]]\n",
        "      if num == n and (y is not i):\n",
        "        return False\n",
        "    #check column\n",
        "    for j in range (0, 9): \n",
        "      num = b[ROW[j] + COL[y]]\n",
        "      if num == n and (x is not j):\n",
        "        return False\n",
        "    #check first 3x3 box\n",
        "    for i in range (0, 3): \n",
        "      for j in range(0,3): \n",
        "        num = b[ROW[((x//3)*3)+i] + COL[((y//3)*3)+j]]\n",
        "        if num == n and ((x , y) is not (i , j)): \n",
        "          return False\n",
        "    return True"
      ]
    },
    {
      "cell_type": "code",
      "execution_count": null,
      "metadata": {
        "id": "G3SE1a5wbIyF"
      },
      "outputs": [],
      "source": [
        "#returns only one empty cell\n",
        "def emptySquare(b): \n",
        "  cell = []\n",
        "  for r in range (0, 9): \n",
        "      for c in range(0,9): \n",
        "        num = b[ROW[r] + COL[c]]\n",
        "        if num == 0: \n",
        "          cell.append(r)\n",
        "          cell.append(c)\n",
        "  if len(cell) > 0:\n",
        "    return cell\n",
        "  return None"
      ]
    },
    {
      "cell_type": "code",
      "execution_count": null,
      "metadata": {
        "id": "10ZIuO-olFso"
      },
      "outputs": [],
      "source": [
        "#collecting list of all empty cells\n",
        "def emptySquares(b): \n",
        "  emptyCells = []\n",
        "  for r in range (0, 9): \n",
        "      for c in range(0,9): \n",
        "        num = b[ROW[r] + COL[c]]\n",
        "        if num == 0: \n",
        "          emptyCells.append((r, c))\n",
        "  if len(emptyCells) > 0: \n",
        "    return emptyCells\n",
        "  return None"
      ]
    },
    {
      "cell_type": "code",
      "execution_count": null,
      "metadata": {
        "id": "d8pELU_1XA_x"
      },
      "outputs": [],
      "source": [
        "#find all of the legal values in for the cell\n",
        "def findLegals(b, row, col):\n",
        "  legalCells = []\n",
        "  for i in range(1, 10): \n",
        "    if isValid(b, row, col, i): \n",
        "      legalCells.append(i)\n",
        "  return legalCells"
      ]
    },
    {
      "cell_type": "code",
      "execution_count": null,
      "metadata": {
        "id": "BGFDifq6rmfp"
      },
      "outputs": [],
      "source": [
        "def backtrackingOld(board):\n",
        "    \"\"\"Takes a board and returns solved board.\"\"\"\n",
        "    #start only manipulate spaces with 0s\n",
        "    \n",
        "    backtrackHelperOld(board)\n",
        "    solved_board = board\n",
        "    emptySlot = emptySquare(solved_board)\n",
        "    if emptySlot is None: #check if board is already completed \n",
        "     return solved_board\n",
        "    \n",
        "    #obtain the first cell\n",
        "    a = emptySlot[0] #row\n",
        "    b = emptySlot[1] #col\n",
        "    \n",
        "\n",
        "    num = findLegals(solved_board,a, b)\n",
        "\n",
        "    for no in num: #iterate through valid values\n",
        "        if isValid(solved_board,a, b, no): #check if valid\n",
        "          solved_board[ROW[a] + COL[b]] = no  \n",
        "          if backtrackingOld(solved_board): #backtrack\n",
        "            return solved_board \n",
        "          solved_board[ROW[a] + COL[b]] = 0 #reset cell\n",
        "\n",
        "    return board"
      ]
    },
    {
      "cell_type": "code",
      "execution_count": null,
      "metadata": {
        "id": "1770AsKMhpv7"
      },
      "outputs": [],
      "source": [
        "#Only returns board with cells with least value stored. \n",
        "def backtrackHelperOld(board):\n",
        "    \"\"\"Helps backtracking method by inserting single value cells\"\"\"\n",
        "    #start only manipulate spaces with 0s\n",
        "    solved_board = board\n",
        "    emptySlots = emptySquares(solved_board)\n",
        "    if emptySlots is None: #check if board is already completed \n",
        "     return solved_board\n",
        "    eCells = emptySquares(solved_board) #find the empty boards\n",
        "    #implement solver\n",
        "    holdLegalCells = []\n",
        "    for i in range(0, len(eCells)):\n",
        "      row = eCells[i][0]\n",
        "      col = eCells[i][1]\n",
        "      temp = findLegals(solved_board, row , col) #find legal vals\n",
        "      if len(temp) == 1: #if cell only has one value, insert\n",
        "        solved_board[ROW[row] + COL[col]] = temp[0]\n",
        "        if backtrackingOld(solved_board): #backtrack, safety net to catch invalid vals\n",
        "          return solved_board\n",
        "        solved_board[ROW[row] + COL[col]] = 0\n",
        "    return solved_board"
      ]
    },
    {
      "cell_type": "code",
      "execution_count": null,
      "metadata": {
        "id": "y31GOuyxTTrP"
      },
      "outputs": [],
      "source": [
        "def backtrackingUpdate(board):\n",
        "    \"\"\"Takes a board and returns solved board.\"\"\"\n",
        "    #start only manipulate spaces with 0s\n",
        "    #solved_board = board\n",
        "    if isCompleted(board): #check if board is already completed \n",
        "     return board\n",
        "    \n",
        "    #obtain coordinates and legal value\n",
        "    cells = backtrackHelperNew(board) \n",
        "    \n",
        "    a = cells[0][0][0] #row\n",
        "    b = cells[0][0][1] #column\n",
        "    #implement solver\n",
        "    num = cells[0][1] #legal value\n",
        "        \n",
        "    for no in num: #iterate through valid values\n",
        "      if isValid(board,a,b,no): #double check if still valid\n",
        "        board[ROW[a] + COL[b]] = no \n",
        "        if backtrackingUpdate(board): #backtrack\n",
        "          return board\n",
        "        board[ROW[a] + COL[b]] = 0 #reset\n",
        "    return None"
      ]
    },
    {
      "cell_type": "code",
      "execution_count": null,
      "metadata": {
        "id": "kXGM_L4XbN4w"
      },
      "outputs": [],
      "source": [
        "#Only returns cells with least value stored. \n",
        "def backtrackHelperNew(board):\n",
        "    \"\"\"Helps backtracking method by sorting and finding the cells with mrv\"\"\"\n",
        "    #collect empty cells\n",
        "    solved_board = board\n",
        "    emptySlots = emptySquares(solved_board)\n",
        "    eCells = emptySquares(solved_board) \n",
        "    \n",
        "    #implement minimum remaining value collection\n",
        "    holdLegalCells = []\n",
        "    for i in range(0, len(eCells)):\n",
        "      row = eCells[i][0] #row\n",
        "      col = eCells[i][1]  #col\n",
        "      temp = findLegals(solved_board, row , col) #find legal vals\n",
        "      holdLegalCells.append(((row,col), temp ))\n",
        "    return sorted(holdLegalCells, key=lambda pos: (len(pos[1]))) #sort by length of legal cells"
      ]
    },
    {
      "cell_type": "code",
      "execution_count": null,
      "metadata": {
        "id": "4b2Z1A61RngD"
      },
      "outputs": [],
      "source": [
        "if __name__ == '__main__':\n",
        "    #  Read boards from source.\n",
        "    #src_filename = 'sudoku_boards.txt' #mount google drive\n",
        "    src_filename = '/content/drive/MyDrive/AI/Sudoko/sudoku_boards.txt'\n",
        "    try:\n",
        "        srcfile = open(src_filename, \"r\")\n",
        "        sudoku_list = srcfile.read()\n",
        "    except:\n",
        "        print(\"Error reading the sudoku file %s\" % src_filename)\n",
        "        exit()\n",
        "\n",
        "    # Setup output file\n",
        "    out_filename = 'output.txt'\n",
        "    outfile = open(out_filename, \"w\")\n",
        "\n",
        "    # Solve each board using backtracking\n",
        "    for line in sudoku_list.split(\"\\n\"):\n",
        "\n",
        "        if len(line) < 9:\n",
        "            continue\n",
        "\n",
        "        # Parse boards to dict representation, scanning board L to R, Up to Down\n",
        "        board = { ROW[r] + COL[c]: int(line[9*r+c])\n",
        "                  for r in range(9) for c in range(9)}\n",
        "\n",
        "        # Print starting board. TODO: Comment this out when timing runs.\n",
        "        print_board(board)\n",
        "        \n",
        "        # Solve with backtracking\n",
        "        #solved_board = backtrackingOld(board) #Original version/attempt - prefill boards\n",
        "        solved_board = backtrackingUpdate(board)  #run updated version\n",
        "        \n",
        "        #previous version completes only 13\n",
        "        #updated solution completes all boards\n",
        "      \n",
        "        # Print solved board. TODO: Comment this out when timing runs.\n",
        "        if isCompleted(solved_board): #viewing how many boards are actually completed\n",
        "          print_board(solved_board)\n",
        "        \n",
        "        # Write board to file\n",
        "        outfile.write(board_to_string(solved_board))\n",
        "        outfile.write('\\n')\n",
        "\n",
        "\n",
        "    print(\"Finishing all boards in file.\")\n",
        "\n"
      ]
    }
  ],
  "metadata": {
    "colab": {
      "collapsed_sections": [],
      "name": "Sudoku_Solver.ipynb",
      "provenance": [],
      "mount_file_id": "1MdwIV6dpFtsAZTwW4bnmka_x1-DCCLmm",
      "authorship_tag": "ABX9TyO6csnFC8i7kTTQ5yF5yoNa",
      "include_colab_link": true
    },
    "kernelspec": {
      "display_name": "Python 3",
      "name": "python3"
    },
    "language_info": {
      "name": "python"
    }
  },
  "nbformat": 4,
  "nbformat_minor": 0
}